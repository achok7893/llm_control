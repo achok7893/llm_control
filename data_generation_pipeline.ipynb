{
 "cells": [
  {
   "cell_type": "code",
   "execution_count": 1,
   "metadata": {},
   "outputs": [],
   "source": [
    "from generate_data_from_azure_openai import main_generate_data_with_openaizure\n",
    "df_res = main_generate_data_with_openaizure()"
   ]
  },
  {
   "cell_type": "code",
   "execution_count": 1,
   "metadata": {},
   "outputs": [
    {
     "name": "stdout",
     "output_type": "stream",
     "text": [
      "ERROR with ner_from_cr parsing in element 7\n",
      "ERROR with summaries parsing in element 10\n",
      "ERROR with ner_from_cr parsing in element 26\n",
      "ERROR with ner_from_cr parsing in element 30\n",
      "ERROR with summaries parsing in element 65\n",
      "ERROR with ner_from_cr parsing in element 79\n",
      "ERROR with ner_from_cr parsing in element 80\n",
      "ERROR with ner_from_cr parsing in element 81\n",
      "ERROR with ner_from_cr parsing in element 115\n",
      "ERROR with ner_from_cr parsing in element 141\n",
      "ERROR with ner_from_cr parsing in element 212\n",
      "ERROR with ner_from_cr parsing in element 214\n",
      "ERROR with summaries parsing in element 226\n",
      "ERROR with ner_from_cr parsing in element 228\n",
      "ERROR with ner_from_cr parsing in element 235\n",
      "ERROR with ner_from_cr parsing in element 311\n",
      "ERROR with ner_from_cr parsing in element 443\n",
      "ERROR with ner_from_cr parsing in element 464\n",
      "ERROR with ner_from_cr parsing in element 474\n",
      "ERROR with ner_from_cr parsing in element 494\n",
      "ERROR with ner_from_cr parsing in element 511\n",
      "ERROR with summaries parsing in element 558\n",
      "ERROR with ner_from_cr parsing in element 593\n"
     ]
    }
   ],
   "source": [
    "from util_process_data import generate_excel_file_to_annotate_from_generated_data_with_azure\n",
    "\n",
    "df_annotation = generate_excel_file_to_annotate_from_generated_data_with_azure(add_time_stamp_to_output=True)"
   ]
  },
  {
   "cell_type": "code",
   "execution_count": null,
   "metadata": {},
   "outputs": [],
   "source": []
  }
 ],
 "metadata": {
  "kernelspec": {
   "display_name": "nlp_env_bopa",
   "language": "python",
   "name": "python3"
  },
  "language_info": {
   "codemirror_mode": {
    "name": "ipython",
    "version": 3
   },
   "file_extension": ".py",
   "mimetype": "text/x-python",
   "name": "python",
   "nbconvert_exporter": "python",
   "pygments_lexer": "ipython3",
   "version": "3.11.7"
  },
  "orig_nbformat": 4
 },
 "nbformat": 4,
 "nbformat_minor": 2
}
